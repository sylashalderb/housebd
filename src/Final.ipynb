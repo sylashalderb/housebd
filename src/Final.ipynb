{
 "cells": [
  {
   "cell_type": "code",
   "execution_count": 51,
   "id": "55488988-fb56-4b79-9ae5-4daccafd6300",
   "metadata": {},
   "outputs": [
    {
     "name": "stdout",
     "output_type": "stream",
     "text": [
      "Mean Squared Error: 255875350704160.88\n",
      "Sample Prediction: [4294590.77994521 6619390.05104343 8013866.40525855 8254341.0894412\n",
      " 8774248.10307644]\n"
     ]
    }
   ],
   "source": [
    "import pandas as pd\n",
    "from sklearn.model_selection import train_test_split\n",
    "from sklearn.preprocessing import StandardScaler, OneHotEncoder\n",
    "from sklearn.compose import ColumnTransformer\n",
    "from sklearn.pipeline import Pipeline\n",
    "from sklearn.linear_model import Ridge\n",
    "from sklearn.metrics import mean_squared_error\n",
    "from sklearn.impute import SimpleImputer\n",
    "\n",
    "# Load the dataset\n",
    "df = pd.read_csv('house_price_bd.csv')\n",
    "\n",
    "# Clean the 'Floor_no' column: remove non-numeric characters and convert to numeric\n",
    "df['Floor_no'] = pd.to_numeric(df['Floor_no'].replace(r'\\D+', '', regex=True), errors='coerce')\n",
    "\n",
    "# Clean the 'Price_in_taka' column: remove non-numeric characters and convert to numeric\n",
    "df['Price_in_taka'] = df['Price_in_taka'].replace(r'[^\\d]', '', regex=True).astype(float)\n",
    "\n",
    "# Define the target column\n",
    "target_column = 'Price_in_taka'\n",
    "\n",
    "# Ensure 'target_column' exists in the DataFrame\n",
    "if target_column not in df.columns:\n",
    "    raise KeyError(f\"Column '{target_column}' not found in the DataFrame. Available columns: {df.columns.tolist()}\")\n",
    "\n",
    "# Separate features and target variable\n",
    "X = df.drop(columns=[target_column])\n",
    "y = df[target_column]\n",
    "\n",
    "# Define categorical and numerical features\n",
    "categorical_features = ['Title', 'Occupancy_status', 'City', 'Location']\n",
    "numerical_features = ['Bedrooms', 'Bathrooms', 'Floor_no', 'Floor_area']\n",
    "\n",
    "# Define preprocessing for numerical and categorical features\n",
    "numerical_transformer = Pipeline(steps=[\n",
    "    ('imputer', SimpleImputer(strategy='median')),\n",
    "    ('scaler', StandardScaler())\n",
    "])\n",
    "categorical_transformer = Pipeline(steps=[\n",
    "    ('imputer', SimpleImputer(strategy='most_frequent')),\n",
    "    ('onehot', OneHotEncoder(handle_unknown='ignore'))\n",
    "])\n",
    "\n",
    "# Create preprocessing pipelines\n",
    "preprocessor = ColumnTransformer(\n",
    "    transformers=[\n",
    "        ('num', numerical_transformer, numerical_features),\n",
    "        ('cat', categorical_transformer, categorical_features)\n",
    "    ])\n",
    "\n",
    "# Create the full pipeline with preprocessing and modeling\n",
    "model_pipeline = Pipeline(steps=[\n",
    "    ('preprocessor', preprocessor),\n",
    "    ('model', Ridge())\n",
    "])\n",
    "\n",
    "# Split the data into training and test sets\n",
    "X_train, X_test, y_train, y_test = train_test_split(X, y, test_size=0.2, random_state=42)\n",
    "\n",
    "# Fit the model pipeline\n",
    "model_pipeline.fit(X_train, y_train)\n",
    "\n",
    "# Predict and evaluate\n",
    "y_pred = model_pipeline.predict(X_test)\n",
    "mse = mean_squared_error(y_test, y_pred)\n",
    "print(f'Mean Squared Error: {mse}')\n",
    "\n",
    "# Display a sample prediction\n",
    "print(f'Sample Prediction: {y_pred[:5]}')"
   ]
  },
  {
   "cell_type": "code",
   "execution_count": null,
   "id": "1dedc566-671d-4d5a-b308-229148f902da",
   "metadata": {},
   "outputs": [],
   "source": []
  }
 ],
 "metadata": {
  "kernelspec": {
   "display_name": "Python 3 (ipykernel)",
   "language": "python",
   "name": "python3"
  },
  "language_info": {
   "codemirror_mode": {
    "name": "ipython",
    "version": 3
   },
   "file_extension": ".py",
   "mimetype": "text/x-python",
   "name": "python",
   "nbconvert_exporter": "python",
   "pygments_lexer": "ipython3",
   "version": "3.11.7"
  }
 },
 "nbformat": 4,
 "nbformat_minor": 5
}
